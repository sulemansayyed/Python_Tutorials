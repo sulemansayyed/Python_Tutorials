{
  "nbformat": 4,
  "nbformat_minor": 0,
  "metadata": {
    "colab": {
      "name": "Numpy_in_Python.ipynb",
      "provenance": [],
      "collapsed_sections": []
    },
    "kernelspec": {
      "name": "python3",
      "display_name": "Python 3"
    },
    "language_info": {
      "name": "python"
    }
  },
  "cells": [
    {
      "cell_type": "markdown",
      "metadata": {
        "id": "zMnKSvjonalt"
      },
      "source": [
        "#<font color = \"on_black\">Author : Suleman Sayyed </font>\n",
        "<br>\n",
        "\n",
        "###**Numpy Tutorial Series** <br>\n",
        "NumPy (Numerical Python) is an open source Python library which is used in almost every field of science and engineering.\n",
        "<br>\n"
      ]
    },
    {
      "cell_type": "markdown",
      "metadata": {
        "id": "EaypNrh1pNoi"
      },
      "source": [
        "<h1 align = \"center\"> <font color= \"on_yellow\">Chapter No. 1 </font> </h1>"
      ]
    },
    {
      "cell_type": "markdown",
      "metadata": {
        "id": "5dgrZU9qppqi"
      },
      "source": [
        "<font color= \"green\" > What is the difference between python list and numpy array?  </font>"
      ]
    },
    {
      "cell_type": "markdown",
      "metadata": {
        "id": "GxolMfcOvxuv"
      },
      "source": [
        "* NumPy gives you efficient ways of creating arrays and manipulating numerical data.\n",
        "* While a **Python list can contain different data types** within a single list, all of the elements in a **NumPy array should be homogeneous**.\n",
        "* mathematical operations on arrays would be **extremely inefficient** if the **arrays weren’t homogeneous**."
      ]
    },
    {
      "cell_type": "markdown",
      "metadata": {
        "id": "JbCRXYojwM1_"
      },
      "source": [
        "###<font color = \"green\">Benifits of Numpy Array <font> - <br>\n",
        "* Are faster and more compact than Python lists.\n",
        "* An array consumes less memory and is convenient to use.\n",
        "* Thus it allows the code to be optimized even further. "
      ]
    },
    {
      "cell_type": "markdown",
      "metadata": {
        "id": "_aOL4OfJx4t4"
      },
      "source": [
        "###<font color=\"blue\"> How to create a basic array ?<font>"
      ]
    },
    {
      "cell_type": "code",
      "metadata": {
        "colab": {
          "base_uri": "https://localhost:8080/"
        },
        "id": "qGygk2rox7cL",
        "outputId": "6860d1ce-f26f-4274-fd30-173ae64c2224"
      },
      "source": [
        "# basic way to create array\n",
        "import numpy as np\n",
        "a = np.array([1,2,3,4,5,6])\n",
        "print(a)"
      ],
      "execution_count": null,
      "outputs": [
        {
          "output_type": "stream",
          "name": "stdout",
          "text": [
            "[1 2 3 4 5 6]\n"
          ]
        }
      ]
    },
    {
      "cell_type": "code",
      "metadata": {
        "colab": {
          "base_uri": "https://localhost:8080/"
        },
        "id": "7M0q0_X5yyhX",
        "outputId": "5bdd3331-72f2-4ae7-c735-a5050ac72174"
      },
      "source": [
        "# creating an array with a range of elements\n",
        "b = np.arange(4)\n",
        "print(b)\n",
        "print(b.dtype)   # to check data type of array"
      ],
      "execution_count": null,
      "outputs": [
        {
          "output_type": "stream",
          "name": "stdout",
          "text": [
            "[0 1 2 3]\n",
            "int64\n"
          ]
        }
      ]
    },
    {
      "cell_type": "code",
      "metadata": {
        "colab": {
          "base_uri": "https://localhost:8080/"
        },
        "id": "NjSajbrv1tM3",
        "outputId": "1404954b-5bd2-4283-da50-31f0d5798ecf"
      },
      "source": [
        "#first number, last number, and the step size.\n",
        "b= np.arange(7,71,2)\n",
        "print(b)"
      ],
      "execution_count": null,
      "outputs": [
        {
          "output_type": "stream",
          "name": "stdout",
          "text": [
            "[ 7  9 11 13 15 17 19 21 23 25 27 29 31 33 35 37 39 41 43 45 47 49 51 53\n",
            " 55 57 59 61 63 65 67 69]\n"
          ]
        }
      ]
    },
    {
      "cell_type": "code",
      "metadata": {
        "colab": {
          "base_uri": "https://localhost:8080/"
        },
        "id": "dGPzJsHL3Dob",
        "outputId": "698100e4-4ced-479d-a759-f9f54ba6a588"
      },
      "source": [
        "#spaced linearly in a specified interval\n",
        "np.linspace(0,10, num=5)\n"
      ],
      "execution_count": null,
      "outputs": [
        {
          "output_type": "execute_result",
          "data": {
            "text/plain": [
              "array([ 0. ,  2.5,  5. ,  7.5, 10. ])"
            ]
          },
          "metadata": {},
          "execution_count": 18
        }
      ]
    },
    {
      "cell_type": "markdown",
      "metadata": {
        "id": "4YIebrgS5l9-"
      },
      "source": [
        "###Now creating numpy array using functions -\n",
        "1. zeros\n",
        "2. Ones\n",
        "3. randint\n",
        "4. diag\n",
        "5. rand\n",
        "6. randn\n",
        "7. empty  (this a update functions, you will get clear down below)\n",
        "8. eye"
      ]
    },
    {
      "cell_type": "markdown",
      "metadata": {
        "id": "v-bnS9F7KJeq"
      },
      "source": [
        "#**1.zeros**"
      ]
    },
    {
      "cell_type": "code",
      "metadata": {
        "id": "AzrNsxRU3utY",
        "colab": {
          "base_uri": "https://localhost:8080/"
        },
        "outputId": "a5d3d7fd-d35d-4b6f-f8b7-f90bb15f5ab8"
      },
      "source": [
        "# Instead of creating an array from a sequence of elements, you can easily create an array filled with 0’s:\n",
        "\n",
        "c= np.zeros(4)\n",
        "c"
      ],
      "execution_count": null,
      "outputs": [
        {
          "output_type": "execute_result",
          "data": {
            "text/plain": [
              "array([0., 0., 0., 0.])"
            ]
          },
          "metadata": {},
          "execution_count": 6
        }
      ]
    },
    {
      "cell_type": "code",
      "metadata": {
        "colab": {
          "base_uri": "https://localhost:8080/"
        },
        "id": "8ge-F0uRJI02",
        "outputId": "1e060175-ef30-402d-be0a-7a6512528c39"
      },
      "source": [
        "# or we can also create a 2d array in zeros \n",
        "# i.e \n",
        "c= np.zeros((2,3))\n",
        "c"
      ],
      "execution_count": null,
      "outputs": [
        {
          "output_type": "execute_result",
          "data": {
            "text/plain": [
              "array([[0., 0., 0.],\n",
              "       [0., 0., 0.]])"
            ]
          },
          "metadata": {},
          "execution_count": 7
        }
      ]
    },
    {
      "cell_type": "markdown",
      "metadata": {
        "id": "EGTFoz47KNpE"
      },
      "source": [
        "#**2. ones**"
      ]
    },
    {
      "cell_type": "code",
      "metadata": {
        "colab": {
          "base_uri": "https://localhost:8080/"
        },
        "id": "04n88F2MJrBW",
        "outputId": "30b0e7fd-3ca4-4179-d4fb-17721bd68be5"
      },
      "source": [
        "# you can easily create an array filled with 1’s:\n",
        "\n",
        "d= np.ones(4)\n",
        "d"
      ],
      "execution_count": null,
      "outputs": [
        {
          "output_type": "execute_result",
          "data": {
            "text/plain": [
              "array([1., 1., 1., 1.])"
            ]
          },
          "metadata": {},
          "execution_count": 9
        }
      ]
    },
    {
      "cell_type": "code",
      "metadata": {
        "colab": {
          "base_uri": "https://localhost:8080/"
        },
        "id": "Ek2uxdNwKcbT",
        "outputId": "c136abe4-4bdc-45db-cad8-38f12ab3a07e"
      },
      "source": [
        "d=np.ones((2,3))\n",
        "d"
      ],
      "execution_count": null,
      "outputs": [
        {
          "output_type": "execute_result",
          "data": {
            "text/plain": [
              "array([[1., 1., 1.],\n",
              "       [1., 1., 1.]])"
            ]
          },
          "metadata": {},
          "execution_count": 10
        }
      ]
    },
    {
      "cell_type": "markdown",
      "metadata": {
        "id": "gM5w6ZPCKlTW"
      },
      "source": [
        "#**3. randint**"
      ]
    },
    {
      "cell_type": "code",
      "metadata": {
        "colab": {
          "base_uri": "https://localhost:8080/"
        },
        "id": "9gOLrFTlKig5",
        "outputId": "532fb867-ecb3-428e-b1ef-c9b3eb2b0ea6"
      },
      "source": [
        "# now generaing random values with randint function\n",
        "# starting value , end value, Number of values/no. we want\n",
        "e = np.random.randint(1,12,5)\n",
        "e\n",
        "\n",
        "# so here it generates random values between 1 & 12, and every time we run the cell we gonna have diff values "
      ],
      "execution_count": null,
      "outputs": [
        {
          "output_type": "execute_result",
          "data": {
            "text/plain": [
              "array([4, 3, 4, 4, 3])"
            ]
          },
          "metadata": {},
          "execution_count": 13
        }
      ]
    },
    {
      "cell_type": "markdown",
      "metadata": {
        "id": "BXMjuiZqPVic"
      },
      "source": [
        "So you will see that the main diff between arrange and randint is that arrange generates definite array values, whereas randint gives us new array values everytime."
      ]
    },
    {
      "cell_type": "markdown",
      "metadata": {
        "id": "IYwLcPtbQNKv"
      },
      "source": [
        "#**4. rand**"
      ]
    },
    {
      "cell_type": "code",
      "metadata": {
        "colab": {
          "base_uri": "https://localhost:8080/"
        },
        "id": "sbcfP0k0Oq4P",
        "outputId": "667b781f-ad54-451e-cbf6-e858a221b0db"
      },
      "source": [
        "a = np.random.rand(7)\n",
        "a"
      ],
      "execution_count": null,
      "outputs": [
        {
          "output_type": "execute_result",
          "data": {
            "text/plain": [
              "array([0.20415958, 0.78576246, 0.67930004, 0.20658083, 0.34408882,\n",
              "       0.01761399, 0.67329377])"
            ]
          },
          "metadata": {},
          "execution_count": 14
        }
      ]
    },
    {
      "cell_type": "code",
      "metadata": {
        "colab": {
          "base_uri": "https://localhost:8080/"
        },
        "id": "W_Gli69nQonQ",
        "outputId": "680b6e53-efa2-4653-ee00-19bc661fc9f4"
      },
      "source": [
        "# here you can see that rand gives us an array in floating point values \n",
        "# we can also create 2d array likewise\n",
        "a = np.random.rand(7,5)\n",
        "a"
      ],
      "execution_count": null,
      "outputs": [
        {
          "output_type": "execute_result",
          "data": {
            "text/plain": [
              "array([[0.09901032, 0.17132599, 0.33431886, 0.44284618, 0.86877645],\n",
              "       [0.21295457, 0.09731151, 0.70679743, 0.48001264, 0.3133359 ],\n",
              "       [0.85703798, 0.27485   , 0.62087546, 0.38712611, 0.85753564],\n",
              "       [0.63100471, 0.48972739, 0.70968038, 0.11997148, 0.44744661],\n",
              "       [0.04287981, 0.86577903, 0.44182565, 0.82375665, 0.82902621],\n",
              "       [0.79352377, 0.99031721, 0.32395163, 0.76614189, 0.61064741],\n",
              "       [0.77705463, 0.76502688, 0.86861947, 0.17595692, 0.50442361]])"
            ]
          },
          "metadata": {},
          "execution_count": 15
        }
      ]
    },
    {
      "cell_type": "markdown",
      "metadata": {
        "id": "Zy9sTPj6Rhiz"
      },
      "source": [
        "above we see 2d array of (7,5) size array is generated<br>\n",
        "<br>\n",
        "Rand function takes a tuple to specify the size of the output, which is consistent with other NumPy functions like \"numpy.zeros\" and \"numpy.ones\"."
      ]
    },
    {
      "cell_type": "markdown",
      "metadata": {
        "id": "aPofV6W0SejT"
      },
      "source": [
        "#**5. randn**"
      ]
    },
    {
      "cell_type": "code",
      "metadata": {
        "colab": {
          "base_uri": "https://localhost:8080/"
        },
        "id": "ZqvxWSuARfbm",
        "outputId": "763526bc-0882-42d9-dfac-25687cfe238b"
      },
      "source": [
        "# randn gives us -ve & +ve floating point values which are always closer to zero\n",
        "\n",
        "b = np.random.randn(5)\n",
        "b"
      ],
      "execution_count": null,
      "outputs": [
        {
          "output_type": "execute_result",
          "data": {
            "text/plain": [
              "array([ 1.50735547, -2.89777049,  0.18978439,  0.36026736,  0.74717705])"
            ]
          },
          "metadata": {},
          "execution_count": 21
        }
      ]
    },
    {
      "cell_type": "code",
      "metadata": {
        "colab": {
          "base_uri": "https://localhost:8080/"
        },
        "id": "IaEN33ZQS_DR",
        "outputId": "372d5ae3-352b-4f2a-e3ec-75d00e54f80d"
      },
      "source": [
        "#If we wanna cross check values are zero or not in large range of array like values in hundreds \n",
        "c= np.random.randn(785)\n",
        "np.mean(c)"
      ],
      "execution_count": null,
      "outputs": [
        {
          "output_type": "execute_result",
          "data": {
            "text/plain": [
              "-0.026925270001872496"
            ]
          },
          "metadata": {},
          "execution_count": 20
        }
      ]
    },
    {
      "cell_type": "markdown",
      "metadata": {
        "id": "D55EtkyDVs4n"
      },
      "source": [
        "#**6. diag**"
      ]
    },
    {
      "cell_type": "code",
      "metadata": {
        "colab": {
          "base_uri": "https://localhost:8080/"
        },
        "id": "PAfdtYuLVhSc",
        "outputId": "63b5b59e-07ca-4bce-f44b-66e2d8a8af44"
      },
      "source": [
        "# it creates a matrix that will be 2d or 3d and we have to pass the daigonal values to this function\n",
        "# and we have to pass values in array form in list, we can't pass values in tuple form like other functions.\n",
        "d = np.diag([1,2,6,8])\n",
        "d"
      ],
      "execution_count": null,
      "outputs": [
        {
          "output_type": "execute_result",
          "data": {
            "text/plain": [
              "array([[1, 0, 0, 0],\n",
              "       [0, 2, 0, 0],\n",
              "       [0, 0, 6, 0],\n",
              "       [0, 0, 0, 8]])"
            ]
          },
          "metadata": {},
          "execution_count": 24
        }
      ]
    },
    {
      "cell_type": "markdown",
      "metadata": {
        "id": "lPj6wu3VaTyp"
      },
      "source": [
        "#**7. empty** array"
      ]
    },
    {
      "cell_type": "code",
      "metadata": {
        "colab": {
          "base_uri": "https://localhost:8080/"
        },
        "id": "e_6pHRIWW87Y",
        "outputId": "90d5127a-0ca2-4a7e-e42d-3289b78c08ef"
      },
      "source": [
        "# numpy.empty(shape, dtype = float, order = ‘C’)\n",
        "e = np.empty(2, dtype=int)\n",
        "print(e)\n",
        "\n",
        "f = np.empty([2,2], dtype= int)\n",
        "print(f)"
      ],
      "execution_count": null,
      "outputs": [
        {
          "output_type": "stream",
          "name": "stdout",
          "text": [
            "[94843919996544        6647137]\n",
            "[[ 4609148821603546619 -4635937011834716796]\n",
            " [ 4598944035368288412  4601523871703254145]]\n"
          ]
        }
      ]
    },
    {
      "cell_type": "markdown",
      "metadata": {
        "id": "9XPIO-qWbIde"
      },
      "source": [
        "The function empty creates an array whose initial content is random and depends on the state of the memory. The reason to **use empty over zeros** (or something similar)  **is speed** - just make sure to fill every element afterwards!"
      ]
    },
    {
      "cell_type": "markdown",
      "metadata": {
        "id": "lOZW9HCSbl1C"
      },
      "source": [
        "#**8. eye**"
      ]
    },
    {
      "cell_type": "code",
      "metadata": {
        "colab": {
          "base_uri": "https://localhost:8080/"
        },
        "id": "GryuNk43YoF8",
        "outputId": "1f1e965a-7215-4aaf-bc52-81e6c461e3f1"
      },
      "source": [
        "# it is similer to diag but here we have to pass a single value or shape of array \n",
        "# and we get array with daigonal values as 1 only.\n",
        "\n",
        "e = np.eye(5)\n",
        "e"
      ],
      "execution_count": null,
      "outputs": [
        {
          "output_type": "execute_result",
          "data": {
            "text/plain": [
              "array([[1., 0., 0., 0., 0.],\n",
              "       [0., 1., 0., 0., 0.],\n",
              "       [0., 0., 1., 0., 0.],\n",
              "       [0., 0., 0., 1., 0.],\n",
              "       [0., 0., 0., 0., 1.]])"
            ]
          },
          "metadata": {},
          "execution_count": 33
        }
      ]
    },
    {
      "cell_type": "markdown",
      "metadata": {
        "id": "cIRTzvqAcmCj"
      },
      "source": [
        "above you can see that all values are zero in array except daigonal values.<br>you can also pass shape of the array we want and same the daigonal values will be 1 only."
      ]
    },
    {
      "cell_type": "code",
      "metadata": {
        "colab": {
          "base_uri": "https://localhost:8080/"
        },
        "id": "EL9v-ASOciZt",
        "outputId": "53acffcb-e228-4e1d-c16c-b8d867437cae"
      },
      "source": [
        "e = np.eye(3,5)\n",
        "e"
      ],
      "execution_count": null,
      "outputs": [
        {
          "output_type": "execute_result",
          "data": {
            "text/plain": [
              "array([[1., 0., 0., 0., 0.],\n",
              "       [0., 1., 0., 0., 0.],\n",
              "       [0., 0., 1., 0., 0.]])"
            ]
          },
          "metadata": {},
          "execution_count": 35
        }
      ]
    },
    {
      "cell_type": "markdown",
      "metadata": {
        "id": "cEM5F2jRdN2R"
      },
      "source": [
        "<br>\n",
        "<h1 align = \"center\"> <font color= \"on_blue\">Thank you for being here! </font> </h1>"
      ]
    }
  ]
}